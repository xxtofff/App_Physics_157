{
 "cells": [
  {
   "cell_type": "code",
   "execution_count": 1,
   "metadata": {},
   "outputs": [],
   "source": [
    "import numpy as np\n",
    "import matplotlib.pyplot as plt\n",
    "import pandas as pd\n",
    "%matplotlib inline"
   ]
  },
  {
   "cell_type": "code",
   "execution_count": 2,
   "metadata": {},
   "outputs": [
    {
     "data": {
      "text/html": [
       "<div>\n",
       "<style scoped>\n",
       "    .dataframe tbody tr th:only-of-type {\n",
       "        vertical-align: middle;\n",
       "    }\n",
       "\n",
       "    .dataframe tbody tr th {\n",
       "        vertical-align: top;\n",
       "    }\n",
       "\n",
       "    .dataframe thead th {\n",
       "        text-align: right;\n",
       "    }\n",
       "</style>\n",
       "<table border=\"1\" class=\"dataframe\">\n",
       "  <thead>\n",
       "    <tr style=\"text-align: right;\">\n",
       "      <th></th>\n",
       "      <th>CustomerId</th>\n",
       "      <th>Surname</th>\n",
       "      <th>CreditScore</th>\n",
       "      <th>Geography</th>\n",
       "      <th>Gender</th>\n",
       "      <th>Age</th>\n",
       "      <th>Tenure</th>\n",
       "      <th>Balance</th>\n",
       "      <th>NumOfProducts</th>\n",
       "      <th>HasCrCard</th>\n",
       "      <th>IsActiveMember</th>\n",
       "      <th>EstimatedSalary</th>\n",
       "      <th>Exited</th>\n",
       "    </tr>\n",
       "    <tr>\n",
       "      <th>id</th>\n",
       "      <th></th>\n",
       "      <th></th>\n",
       "      <th></th>\n",
       "      <th></th>\n",
       "      <th></th>\n",
       "      <th></th>\n",
       "      <th></th>\n",
       "      <th></th>\n",
       "      <th></th>\n",
       "      <th></th>\n",
       "      <th></th>\n",
       "      <th></th>\n",
       "      <th></th>\n",
       "    </tr>\n",
       "  </thead>\n",
       "  <tbody>\n",
       "    <tr>\n",
       "      <th>0</th>\n",
       "      <td>15674932</td>\n",
       "      <td>Okwudilichukwu</td>\n",
       "      <td>668</td>\n",
       "      <td>France</td>\n",
       "      <td>Male</td>\n",
       "      <td>33.0</td>\n",
       "      <td>3</td>\n",
       "      <td>0.00</td>\n",
       "      <td>2</td>\n",
       "      <td>1.0</td>\n",
       "      <td>0.0</td>\n",
       "      <td>181449.97</td>\n",
       "      <td>0</td>\n",
       "    </tr>\n",
       "    <tr>\n",
       "      <th>1</th>\n",
       "      <td>15749177</td>\n",
       "      <td>Okwudiliolisa</td>\n",
       "      <td>627</td>\n",
       "      <td>France</td>\n",
       "      <td>Male</td>\n",
       "      <td>33.0</td>\n",
       "      <td>1</td>\n",
       "      <td>0.00</td>\n",
       "      <td>2</td>\n",
       "      <td>1.0</td>\n",
       "      <td>1.0</td>\n",
       "      <td>49503.50</td>\n",
       "      <td>0</td>\n",
       "    </tr>\n",
       "    <tr>\n",
       "      <th>2</th>\n",
       "      <td>15694510</td>\n",
       "      <td>Hsueh</td>\n",
       "      <td>678</td>\n",
       "      <td>France</td>\n",
       "      <td>Male</td>\n",
       "      <td>40.0</td>\n",
       "      <td>10</td>\n",
       "      <td>0.00</td>\n",
       "      <td>2</td>\n",
       "      <td>1.0</td>\n",
       "      <td>0.0</td>\n",
       "      <td>184866.69</td>\n",
       "      <td>0</td>\n",
       "    </tr>\n",
       "    <tr>\n",
       "      <th>3</th>\n",
       "      <td>15741417</td>\n",
       "      <td>Kao</td>\n",
       "      <td>581</td>\n",
       "      <td>France</td>\n",
       "      <td>Male</td>\n",
       "      <td>34.0</td>\n",
       "      <td>2</td>\n",
       "      <td>148882.54</td>\n",
       "      <td>1</td>\n",
       "      <td>1.0</td>\n",
       "      <td>1.0</td>\n",
       "      <td>84560.88</td>\n",
       "      <td>0</td>\n",
       "    </tr>\n",
       "    <tr>\n",
       "      <th>4</th>\n",
       "      <td>15766172</td>\n",
       "      <td>Chiemenam</td>\n",
       "      <td>716</td>\n",
       "      <td>Spain</td>\n",
       "      <td>Male</td>\n",
       "      <td>33.0</td>\n",
       "      <td>5</td>\n",
       "      <td>0.00</td>\n",
       "      <td>2</td>\n",
       "      <td>1.0</td>\n",
       "      <td>1.0</td>\n",
       "      <td>15068.83</td>\n",
       "      <td>0</td>\n",
       "    </tr>\n",
       "  </tbody>\n",
       "</table>\n",
       "</div>"
      ],
      "text/plain": [
       "    CustomerId         Surname  CreditScore Geography Gender   Age  Tenure  \\\n",
       "id                                                                           \n",
       "0     15674932  Okwudilichukwu          668    France   Male  33.0       3   \n",
       "1     15749177   Okwudiliolisa          627    France   Male  33.0       1   \n",
       "2     15694510           Hsueh          678    France   Male  40.0      10   \n",
       "3     15741417             Kao          581    France   Male  34.0       2   \n",
       "4     15766172       Chiemenam          716     Spain   Male  33.0       5   \n",
       "\n",
       "      Balance  NumOfProducts  HasCrCard  IsActiveMember  EstimatedSalary  \\\n",
       "id                                                                         \n",
       "0        0.00              2        1.0             0.0        181449.97   \n",
       "1        0.00              2        1.0             1.0         49503.50   \n",
       "2        0.00              2        1.0             0.0        184866.69   \n",
       "3   148882.54              1        1.0             1.0         84560.88   \n",
       "4        0.00              2        1.0             1.0         15068.83   \n",
       "\n",
       "    Exited  \n",
       "id          \n",
       "0        0  \n",
       "1        0  \n",
       "2        0  \n",
       "3        0  \n",
       "4        0  "
      ]
     },
     "execution_count": 2,
     "metadata": {},
     "output_type": "execute_result"
    }
   ],
   "source": [
    "file_path = '..//Datasets//bank churn//'\n",
    "bank = pd.read_csv(file_path + 'train.csv', index_col = 'id')\n",
    "bank.head()"
   ]
  },
  {
   "cell_type": "markdown",
   "metadata": {},
   "source": [
    "## From Kaggle\n",
    "\n",
    "The bank customer churn dataset is a commonly used dataset for predicting customer churn in the banking industry. It contains information on bank customers who either left the bank or continue to be a customer. The dataset includes the following attributes:\n",
    "\n",
    "**Customer ID**: A unique identifier for each customer \n",
    "\n",
    "**Surname**: The customer's surname or last name \n",
    "\n",
    "**Credit Score**: A numerical value representing the customer's credit score \n",
    "\n",
    "**Geography**: The country where the customer resides (France, Spain or Germany)\n",
    "\n",
    "**Gender**: The customer's gender (Male or Female)\n",
    "\n",
    "**Age**: The customer's age.\n",
    "\n",
    "**Tenure**: The number of years the customer has been with the bank\n",
    "\n",
    "**Balance**: The customer's account balance\n",
    "\n",
    "**NumOfProducts**: The number of bank products the customer uses (e.g., savings account, credit card)\n",
    "\n",
    "**HasCrCard**: Whether the customer has a credit card (1 = yes, 0 = no)\n",
    "\n",
    "**IsActiveMember**: Whether the customer is an active member (1 = yes, 0 = no)\n",
    "\n",
    "**EstimatedSalary**: The estimated salary of the customer\n",
    "\n",
    "**Exited**: Whether the customer has churned (1 = yes, 0 = no)"
   ]
  },
  {
   "cell_type": "code",
   "execution_count": 3,
   "metadata": {},
   "outputs": [
    {
     "data": {
      "text/html": [
       "<div>\n",
       "<style scoped>\n",
       "    .dataframe tbody tr th:only-of-type {\n",
       "        vertical-align: middle;\n",
       "    }\n",
       "\n",
       "    .dataframe tbody tr th {\n",
       "        vertical-align: top;\n",
       "    }\n",
       "\n",
       "    .dataframe thead th {\n",
       "        text-align: right;\n",
       "    }\n",
       "</style>\n",
       "<table border=\"1\" class=\"dataframe\">\n",
       "  <thead>\n",
       "    <tr style=\"text-align: right;\">\n",
       "      <th></th>\n",
       "      <th>CustomerId</th>\n",
       "      <th>CreditScore</th>\n",
       "      <th>Age</th>\n",
       "      <th>Tenure</th>\n",
       "      <th>Balance</th>\n",
       "      <th>NumOfProducts</th>\n",
       "      <th>HasCrCard</th>\n",
       "      <th>IsActiveMember</th>\n",
       "      <th>EstimatedSalary</th>\n",
       "    </tr>\n",
       "  </thead>\n",
       "  <tbody>\n",
       "    <tr>\n",
       "      <th>CustomerId</th>\n",
       "      <td>100.000000</td>\n",
       "      <td>0.736402</td>\n",
       "      <td>0.269608</td>\n",
       "      <td>-0.125237</td>\n",
       "      <td>-0.834842</td>\n",
       "      <td>0.437993</td>\n",
       "      <td>-0.546894</td>\n",
       "      <td>-0.293404</td>\n",
       "      <td>0.289126</td>\n",
       "    </tr>\n",
       "    <tr>\n",
       "      <th>CreditScore</th>\n",
       "      <td>0.736402</td>\n",
       "      <td>100.000000</td>\n",
       "      <td>-0.891815</td>\n",
       "      <td>0.094248</td>\n",
       "      <td>0.697305</td>\n",
       "      <td>1.136081</td>\n",
       "      <td>-0.282776</td>\n",
       "      <td>1.479026</td>\n",
       "      <td>-0.182030</td>\n",
       "    </tr>\n",
       "    <tr>\n",
       "      <th>Age</th>\n",
       "      <td>0.269608</td>\n",
       "      <td>-0.891815</td>\n",
       "      <td>100.000000</td>\n",
       "      <td>-1.083035</td>\n",
       "      <td>6.431829</td>\n",
       "      <td>-10.219491</td>\n",
       "      <td>-1.211133</td>\n",
       "      <td>0.331956</td>\n",
       "      <td>-0.539866</td>\n",
       "    </tr>\n",
       "    <tr>\n",
       "      <th>Tenure</th>\n",
       "      <td>-0.125237</td>\n",
       "      <td>0.094248</td>\n",
       "      <td>-1.083035</td>\n",
       "      <td>100.000000</td>\n",
       "      <td>-0.948119</td>\n",
       "      <td>0.733483</td>\n",
       "      <td>0.532662</td>\n",
       "      <td>-0.553226</td>\n",
       "      <td>0.097059</td>\n",
       "    </tr>\n",
       "    <tr>\n",
       "      <th>Balance</th>\n",
       "      <td>-0.834842</td>\n",
       "      <td>0.697305</td>\n",
       "      <td>6.431829</td>\n",
       "      <td>-0.948119</td>\n",
       "      <td>100.000000</td>\n",
       "      <td>-36.103252</td>\n",
       "      <td>-1.858401</td>\n",
       "      <td>-1.507349</td>\n",
       "      <td>0.858620</td>\n",
       "    </tr>\n",
       "    <tr>\n",
       "      <th>NumOfProducts</th>\n",
       "      <td>0.437993</td>\n",
       "      <td>1.136081</td>\n",
       "      <td>-10.219491</td>\n",
       "      <td>0.733483</td>\n",
       "      <td>-36.103252</td>\n",
       "      <td>100.000000</td>\n",
       "      <td>0.548228</td>\n",
       "      <td>3.973607</td>\n",
       "      <td>-0.428509</td>\n",
       "    </tr>\n",
       "    <tr>\n",
       "      <th>HasCrCard</th>\n",
       "      <td>-0.546894</td>\n",
       "      <td>-0.282776</td>\n",
       "      <td>-1.211133</td>\n",
       "      <td>0.532662</td>\n",
       "      <td>-1.858401</td>\n",
       "      <td>0.548228</td>\n",
       "      <td>100.000000</td>\n",
       "      <td>-2.103379</td>\n",
       "      <td>0.443822</td>\n",
       "    </tr>\n",
       "    <tr>\n",
       "      <th>IsActiveMember</th>\n",
       "      <td>-0.293404</td>\n",
       "      <td>1.479026</td>\n",
       "      <td>0.331956</td>\n",
       "      <td>-0.553226</td>\n",
       "      <td>-1.507349</td>\n",
       "      <td>3.973607</td>\n",
       "      <td>-2.103379</td>\n",
       "      <td>100.000000</td>\n",
       "      <td>-0.808005</td>\n",
       "    </tr>\n",
       "    <tr>\n",
       "      <th>EstimatedSalary</th>\n",
       "      <td>0.289126</td>\n",
       "      <td>-0.182030</td>\n",
       "      <td>-0.539866</td>\n",
       "      <td>0.097059</td>\n",
       "      <td>0.858620</td>\n",
       "      <td>-0.428509</td>\n",
       "      <td>0.443822</td>\n",
       "      <td>-0.808005</td>\n",
       "      <td>100.000000</td>\n",
       "    </tr>\n",
       "  </tbody>\n",
       "</table>\n",
       "</div>"
      ],
      "text/plain": [
       "                 CustomerId  CreditScore         Age      Tenure     Balance  \\\n",
       "CustomerId       100.000000     0.736402    0.269608   -0.125237   -0.834842   \n",
       "CreditScore        0.736402   100.000000   -0.891815    0.094248    0.697305   \n",
       "Age                0.269608    -0.891815  100.000000   -1.083035    6.431829   \n",
       "Tenure            -0.125237     0.094248   -1.083035  100.000000   -0.948119   \n",
       "Balance           -0.834842     0.697305    6.431829   -0.948119  100.000000   \n",
       "NumOfProducts      0.437993     1.136081  -10.219491    0.733483  -36.103252   \n",
       "HasCrCard         -0.546894    -0.282776   -1.211133    0.532662   -1.858401   \n",
       "IsActiveMember    -0.293404     1.479026    0.331956   -0.553226   -1.507349   \n",
       "EstimatedSalary    0.289126    -0.182030   -0.539866    0.097059    0.858620   \n",
       "\n",
       "                 NumOfProducts   HasCrCard  IsActiveMember  EstimatedSalary  \n",
       "CustomerId            0.437993   -0.546894       -0.293404         0.289126  \n",
       "CreditScore           1.136081   -0.282776        1.479026        -0.182030  \n",
       "Age                 -10.219491   -1.211133        0.331956        -0.539866  \n",
       "Tenure                0.733483    0.532662       -0.553226         0.097059  \n",
       "Balance             -36.103252   -1.858401       -1.507349         0.858620  \n",
       "NumOfProducts       100.000000    0.548228        3.973607        -0.428509  \n",
       "HasCrCard             0.548228  100.000000       -2.103379         0.443822  \n",
       "IsActiveMember        3.973607   -2.103379      100.000000        -0.808005  \n",
       "EstimatedSalary      -0.428509    0.443822       -0.808005       100.000000  "
      ]
     },
     "execution_count": 3,
     "metadata": {},
     "output_type": "execute_result"
    }
   ],
   "source": [
    "targ_cols = ['Exited']\n",
    "feat_cols = [col for col in bank.columns if col not in targ_cols]\n",
    "\n",
    "num_cols = [col for col in feat_cols if bank[col].dtype in ['int64', 'float64']]\n",
    "bank[num_cols].corr()*100"
   ]
  },
  {
   "cell_type": "code",
   "execution_count": 4,
   "metadata": {},
   "outputs": [
    {
     "data": {
      "text/plain": [
       "array([[<Axes: title={'center': 'CustomerId'}>,\n",
       "        <Axes: title={'center': 'CreditScore'}>,\n",
       "        <Axes: title={'center': 'Age'}>],\n",
       "       [<Axes: title={'center': 'Tenure'}>,\n",
       "        <Axes: title={'center': 'Balance'}>,\n",
       "        <Axes: title={'center': 'NumOfProducts'}>],\n",
       "       [<Axes: title={'center': 'HasCrCard'}>,\n",
       "        <Axes: title={'center': 'IsActiveMember'}>,\n",
       "        <Axes: title={'center': 'EstimatedSalary'}>]], dtype=object)"
      ]
     },
     "execution_count": 4,
     "metadata": {},
     "output_type": "execute_result"
    },
    {
     "data": {
      "image/png": "[encoded data removed]",
      "text/plain": [
       "<Figure size 1440x720 with 9 Axes>"
      ]
     },
     "metadata": {
      "needs_background": "light"
     },
     "output_type": "display_data"
    }
   ],
   "source": [
    "bank[num_cols].hist(bins = 50, figsize = (20, 10))"
   ]
  },
  {
   "cell_type": "markdown",
   "metadata": {},
   "source": [
    "We can see that there in the extremities of the credit score and balance, there are spikes. This is because the maximum credit score one can have is 850, and, while it is possible to have negative balance, it will be written as 0. "
   ]
  },
  {
   "cell_type": "code",
   "execution_count": 8,
   "metadata": {},
   "outputs": [
    {
     "data": {
      "text/plain": [
       "850"
      ]
     },
     "execution_count": 8,
     "metadata": {},
     "output_type": "execute_result"
    }
   ],
   "source": [
    "bank.CreditScore.max()"
   ]
  },
  {
   "cell_type": "code",
   "execution_count": 16,
   "metadata": {},
   "outputs": [
    {
     "name": "stdout",
     "output_type": "stream",
     "text": [
      "Outlier rows are 55.86% of the total rows\n"
     ]
    }
   ],
   "source": [
    "max_cscore = [row for row in bank.index if bank.CreditScore.iloc[row] == 850]\n",
    "min_bal = [row for row in bank.index if bank.Balance.iloc[row] == 0]\n",
    "bad_rows = max_cscore + min_bal\n",
    "print('Outlier rows are {:.2f}% of the total rows'.format(100*len(bad_rows)/len(bank.index)))"
   ]
  },
  {
   "cell_type": "markdown",
   "metadata": {},
   "source": [
    "We can't just remove it."
   ]
  },
  {
   "cell_type": "code",
   "execution_count": 6,
   "metadata": {},
   "outputs": [
    {
     "name": "stdout",
     "output_type": "stream",
     "text": [
      "<class 'pandas.core.frame.DataFrame'>\n",
      "Index: 165034 entries, 0 to 165033\n",
      "Data columns (total 12 columns):\n",
      " #   Column           Non-Null Count   Dtype  \n",
      "---  ------           --------------   -----  \n",
      " 0   CustomerId       165034 non-null  int64  \n",
      " 1   Surname          165034 non-null  object \n",
      " 2   CreditScore      165034 non-null  int64  \n",
      " 3   Geography        165034 non-null  object \n",
      " 4   Gender           165034 non-null  object \n",
      " 5   Age              165034 non-null  float64\n",
      " 6   Tenure           165034 non-null  int64  \n",
      " 7   Balance          165034 non-null  float64\n",
      " 8   NumOfProducts    165034 non-null  int64  \n",
      " 9   HasCrCard        165034 non-null  float64\n",
      " 10  IsActiveMember   165034 non-null  float64\n",
      " 11  EstimatedSalary  165034 non-null  float64\n",
      "dtypes: float64(5), int64(4), object(3)\n",
      "memory usage: 16.4+ MB\n"
     ]
    }
   ],
   "source": [
    "bank[feat_cols].info()"
   ]
  },
  {
   "cell_type": "code",
   "execution_count": 7,
   "metadata": {},
   "outputs": [
    {
     "data": {
      "text/plain": [
       "<Axes: xlabel='Gender', ylabel='Exited'>"
      ]
     },
     "execution_count": 7,
     "metadata": {},
     "output_type": "execute_result"
    },
    {
     "data": {
      "image/png": "[encoded data removed]",
      "text/plain": [
       "<Figure size 432x288 with 1 Axes>"
      ]
     },
     "metadata": {
      "needs_background": "light"
     },
     "output_type": "display_data"
    }
   ],
   "source": [
    "import seaborn as sns\n",
    "\n",
    "sns.barplot(data = bank, x = 'Gender', y = 'Exited')"
   ]
  },
  {
   "cell_type": "markdown",
   "metadata": {},
   "source": []
  },
  {
   "cell_type": "code",
   "execution_count": null,
   "metadata": {},
   "outputs": [],
   "source": []
  }
 ],
 "metadata": {
  "kernelspec": {
   "display_name": "Python 3",
   "language": "python",
   "name": "python3"
  },
  "language_info": {
   "codemirror_mode": {
    "name": "ipython",
    "version": 3
   },
   "file_extension": ".py",
   "mimetype": "text/x-python",
   "name": "python",
   "nbconvert_exporter": "python",
   "pygments_lexer": "ipython3",
   "version": "3.9.13"
  }
 },
 "nbformat": 4,
 "nbformat_minor": 2
}

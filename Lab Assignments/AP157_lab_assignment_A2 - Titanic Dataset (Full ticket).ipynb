{
 "cells": [
  {
   "cell_type": "markdown",
   "metadata": {},
   "source": [
    "# Titanic Dataset - Classification\n",
    "### Genesis Adam D. Mendoza"
   ]
  },
  {
   "cell_type": "markdown",
   "metadata": {},
   "source": [
    "Initialize the required packages"
   ]
  },
  {
   "cell_type": "code",
   "execution_count": 1,
   "metadata": {},
   "outputs": [
    {
     "name": "stderr",
     "output_type": "stream",
     "text": [
      "C:\\Users\\PC\\AppData\\Local\\Temp/ipykernel_7460/702646386.py:3: DeprecationWarning: \n",
      "Pyarrow will become a required dependency of pandas in the next major release of pandas (pandas 3.0),\n",
      "(to allow more performant data types, such as the Arrow string type, and better interoperability with other libraries)\n",
      "but was not found to be installed on your system.\n",
      "If this would cause problems for you,\n",
      "please provide us feedback at https://github.com/pandas-dev/pandas/issues/54466\n",
      "        \n",
      "  import pandas as pd\n"
     ]
    }
   ],
   "source": [
    "import numpy as np\n",
    "import matplotlib.pyplot as plt\n",
    "import pandas as pd\n",
    "from sklearn.ensemble import RandomForestClassifier\n",
    "from sklearn.model_selection import train_test_split\n",
    "from sklearn.compose import ColumnTransformer\n",
    "from sklearn.pipeline import Pipeline\n",
    "from sklearn.impute import SimpleImputer\n",
    "from sklearn.preprocessing import OneHotEncoder\n"
   ]
  },
  {
   "cell_type": "code",
   "execution_count": 2,
   "metadata": {},
   "outputs": [
    {
     "data": {
      "text/html": [
       "<div>\n",
       "<style scoped>\n",
       "    .dataframe tbody tr th:only-of-type {\n",
       "        vertical-align: middle;\n",
       "    }\n",
       "\n",
       "    .dataframe tbody tr th {\n",
       "        vertical-align: top;\n",
       "    }\n",
       "\n",
       "    .dataframe thead th {\n",
       "        text-align: right;\n",
       "    }\n",
       "</style>\n",
       "<table border=\"1\" class=\"dataframe\">\n",
       "  <thead>\n",
       "    <tr style=\"text-align: right;\">\n",
       "      <th></th>\n",
       "      <th>Survived</th>\n",
       "      <th>Pclass</th>\n",
       "      <th>Name</th>\n",
       "      <th>Sex</th>\n",
       "      <th>Age</th>\n",
       "      <th>SibSp</th>\n",
       "      <th>Parch</th>\n",
       "      <th>Ticket</th>\n",
       "      <th>Fare</th>\n",
       "      <th>Cabin</th>\n",
       "      <th>Embarked</th>\n",
       "    </tr>\n",
       "    <tr>\n",
       "      <th>PassengerId</th>\n",
       "      <th></th>\n",
       "      <th></th>\n",
       "      <th></th>\n",
       "      <th></th>\n",
       "      <th></th>\n",
       "      <th></th>\n",
       "      <th></th>\n",
       "      <th></th>\n",
       "      <th></th>\n",
       "      <th></th>\n",
       "      <th></th>\n",
       "    </tr>\n",
       "  </thead>\n",
       "  <tbody>\n",
       "    <tr>\n",
       "      <th>1</th>\n",
       "      <td>0</td>\n",
       "      <td>3</td>\n",
       "      <td>Braund, Mr. Owen Harris</td>\n",
       "      <td>male</td>\n",
       "      <td>22.0</td>\n",
       "      <td>1</td>\n",
       "      <td>0</td>\n",
       "      <td>A/5 21171</td>\n",
       "      <td>7.2500</td>\n",
       "      <td>NaN</td>\n",
       "      <td>S</td>\n",
       "    </tr>\n",
       "    <tr>\n",
       "      <th>2</th>\n",
       "      <td>1</td>\n",
       "      <td>1</td>\n",
       "      <td>Cumings, Mrs. John Bradley (Florence Briggs Th...</td>\n",
       "      <td>female</td>\n",
       "      <td>38.0</td>\n",
       "      <td>1</td>\n",
       "      <td>0</td>\n",
       "      <td>PC 17599</td>\n",
       "      <td>71.2833</td>\n",
       "      <td>C85</td>\n",
       "      <td>C</td>\n",
       "    </tr>\n",
       "    <tr>\n",
       "      <th>3</th>\n",
       "      <td>1</td>\n",
       "      <td>3</td>\n",
       "      <td>Heikkinen, Miss. Laina</td>\n",
       "      <td>female</td>\n",
       "      <td>26.0</td>\n",
       "      <td>0</td>\n",
       "      <td>0</td>\n",
       "      <td>STON/O2. 3101282</td>\n",
       "      <td>7.9250</td>\n",
       "      <td>NaN</td>\n",
       "      <td>S</td>\n",
       "    </tr>\n",
       "    <tr>\n",
       "      <th>4</th>\n",
       "      <td>1</td>\n",
       "      <td>1</td>\n",
       "      <td>Futrelle, Mrs. Jacques Heath (Lily May Peel)</td>\n",
       "      <td>female</td>\n",
       "      <td>35.0</td>\n",
       "      <td>1</td>\n",
       "      <td>0</td>\n",
       "      <td>113803</td>\n",
       "      <td>53.1000</td>\n",
       "      <td>C123</td>\n",
       "      <td>S</td>\n",
       "    </tr>\n",
       "    <tr>\n",
       "      <th>5</th>\n",
       "      <td>0</td>\n",
       "      <td>3</td>\n",
       "      <td>Allen, Mr. William Henry</td>\n",
       "      <td>male</td>\n",
       "      <td>35.0</td>\n",
       "      <td>0</td>\n",
       "      <td>0</td>\n",
       "      <td>373450</td>\n",
       "      <td>8.0500</td>\n",
       "      <td>NaN</td>\n",
       "      <td>S</td>\n",
       "    </tr>\n",
       "  </tbody>\n",
       "</table>\n",
       "</div>"
      ],
      "text/plain": [
       "             Survived  Pclass  \\\n",
       "PassengerId                     \n",
       "1                   0       3   \n",
       "2                   1       1   \n",
       "3                   1       3   \n",
       "4                   1       1   \n",
       "5                   0       3   \n",
       "\n",
       "                                                          Name     Sex   Age  \\\n",
       "PassengerId                                                                    \n",
       "1                                      Braund, Mr. Owen Harris    male  22.0   \n",
       "2            Cumings, Mrs. John Bradley (Florence Briggs Th...  female  38.0   \n",
       "3                                       Heikkinen, Miss. Laina  female  26.0   \n",
       "4                 Futrelle, Mrs. Jacques Heath (Lily May Peel)  female  35.0   \n",
       "5                                     Allen, Mr. William Henry    male  35.0   \n",
       "\n",
       "             SibSp  Parch            Ticket     Fare Cabin Embarked  \n",
       "PassengerId                                                          \n",
       "1                1      0         A/5 21171   7.2500   NaN        S  \n",
       "2                1      0          PC 17599  71.2833   C85        C  \n",
       "3                0      0  STON/O2. 3101282   7.9250   NaN        S  \n",
       "4                1      0            113803  53.1000  C123        S  \n",
       "5                0      0            373450   8.0500   NaN        S  "
      ]
     },
     "execution_count": 2,
     "metadata": {},
     "output_type": "execute_result"
    }
   ],
   "source": [
    "file_path = 'Datasets\\\\Titanic Dataset\\\\'\n",
    "titanic = pd.read_csv(file_path + 'train.csv', index_col = 'PassengerId')\n",
    "titanic.head()"
   ]
  },
  {
   "cell_type": "markdown",
   "metadata": {},
   "source": [
    "From Kaggle:\n",
    "\n",
    "## Data Dictionary\n",
    "\n",
    "| Variable | Definition | Key |\n",
    "|----------|------------|-----|\n",
    "| survival | Survival   | 0 = No, 1 = Yes |\n",
    "| pclass   | Ticket class| 1 = 1st, 2 = 2nd, 3 = 3rd |\n",
    "| sex      | Sex        |     |\n",
    "| Age      | Age in years|     |\n",
    "| sibsp    | # of siblings / spouses aboard the Titanic |     |\n",
    "| parch    | # of parents / children aboard the Titanic |     |\n",
    "| ticket   | Ticket number|     |\n",
    "| fare     | Passenger fare|     |\n",
    "| cabin    | Cabin number |     |\n",
    "| embarked | Port of Embarkation | C = Cherbourg, Q = Queenstown, S = Southampton |\n",
    "\n",
    "### Variable Notes\n",
    "\n",
    "- **pclass**: A proxy for socio-economic status (SES)\n",
    "  - 1st = Upper\n",
    "  - 2nd = Middle\n",
    "  - 3rd = Lower\n",
    "\n",
    "- **age**: Age is fractional if less than 1. If the age is estimated, it is in the form of xx.5.\n",
    "\n",
    "- **sibsp**: The dataset defines family relations in this way...\n",
    "  - Sibling = brother, sister, stepbrother, stepsister\n",
    "  - Spouse = husband, wife (mistresses and fiancés were ignored)\n",
    "\n",
    "- **parch**: The dataset defines family relations in this way...\n",
    "  - Parent = mother, father\n",
    "  - Child = daughter, son, stepdaughter, stepson\n",
    "  - Some children travelled only with a nanny, therefore parch=0 for them.\n"
   ]
  },
  {
   "cell_type": "markdown",
   "metadata": {},
   "source": [
    "Check if there are any columns that have null values."
   ]
  },
  {
   "cell_type": "code",
   "execution_count": 3,
   "metadata": {},
   "outputs": [
    {
     "data": {
      "text/plain": [
       "['Age', 'Cabin', 'Embarked']"
      ]
     },
     "execution_count": 3,
     "metadata": {},
     "output_type": "execute_result"
    }
   ],
   "source": [
    "null_cols = [col for col in titanic.columns if titanic[col].isnull().any()]\n",
    "null_cols"
   ]
  },
  {
   "cell_type": "markdown",
   "metadata": {},
   "source": [
    "What percentage of the entries in this columns are empty?"
   ]
  },
  {
   "cell_type": "code",
   "execution_count": 4,
   "metadata": {},
   "outputs": [
    {
     "data": {
      "text/plain": [
       "Age         19.865320\n",
       "Cabin       77.104377\n",
       "Embarked     0.224467\n",
       "dtype: float64"
      ]
     },
     "execution_count": 4,
     "metadata": {},
     "output_type": "execute_result"
    }
   ],
   "source": [
    "100*titanic[null_cols].isnull().sum()/titanic[null_cols].shape[0]"
   ]
  },
  {
   "cell_type": "markdown",
   "metadata": {},
   "source": [
    "We will fill the null age columns with the mean value."
   ]
  },
  {
   "cell_type": "code",
   "execution_count": 5,
   "metadata": {},
   "outputs": [],
   "source": [
    "titanic['Age'] = titanic['Age'].fillna(value = titanic.Age.mean()).astype('float64')"
   ]
  },
  {
   "cell_type": "markdown",
   "metadata": {},
   "source": [
    "Suppose we don't want to remove the Cabin feature even though 77% of it is missing. We can extract useful information from these strings."
   ]
  },
  {
   "cell_type": "code",
   "execution_count": 6,
   "metadata": {},
   "outputs": [],
   "source": [
    "titanic['Honorific'] = titanic['Name'].str.extract('([A-Za-z]+)\\.') #separate the honorific from the name. It may indicate social status.\n",
    "titanic['Surname'] = titanic['Name'].str.extract('([A-Za-z]+)\\,') #separate the surname from the name. It may indicate social status and lineage.\n",
    "titanic['CabinName'] = titanic.Cabin.str.extract(r'([A-Z])') #cabin name may also indicate social status. \n",
    "titanic['CabinNumber'] = titanic.Cabin.str.extract(r'(\\d+)', expand=False).fillna(value = 0).astype('int64') #cabin number may also indicate social status. \n",
    "titanic_dropped = titanic.drop(['Name', 'Cabin'], axis = 1)"
   ]
  },
  {
   "cell_type": "markdown",
   "metadata": {},
   "source": [
    "Next, we separate the target columns from the feature columns. Then, we'll separate the training set and the validation set."
   ]
  },
  {
   "cell_type": "code",
   "execution_count": 7,
   "metadata": {},
   "outputs": [],
   "source": [
    "target_cols = ['Survived']\n",
    "feature_cols = [col for col in titanic_dropped.columns if col not in target_cols]\n",
    "\n",
    "x_feats = titanic_dropped[feature_cols]\n",
    "y_targ = titanic_dropped[target_cols]\n",
    "x_train, x_val, y_train, y_val = train_test_split(x_feats, y_targ, train_size=0.5, random_state=0)"
   ]
  },
  {
   "cell_type": "markdown",
   "metadata": {},
   "source": [
    "We categorize the feature columns into numerical or categorical so that we'll know how to process it."
   ]
  },
  {
   "cell_type": "code",
   "execution_count": 8,
   "metadata": {},
   "outputs": [],
   "source": [
    "num_cols = [col for col in feature_cols if titanic_dropped[col].dtype in ['int64', 'float64']]\n",
    "cat_cols = [col for col in feature_cols if titanic_dropped[col].dtype in ['object']]                                                                                   "
   ]
  },
  {
   "cell_type": "code",
   "execution_count": 9,
   "metadata": {},
   "outputs": [],
   "source": [
    "categorical_transformer = Pipeline(steps = [('imputer', SimpleImputer(strategy = 'most_frequent')),('onehot', OneHotEncoder(handle_unknown = 'ignore'))])\n",
    "preprocessor = ColumnTransformer(transformers=[('cat', categorical_transformer, cat_cols)])"
   ]
  },
  {
   "cell_type": "markdown",
   "metadata": {},
   "source": [
    "Let's check the correlation between numerical columns"
   ]
  },
  {
   "cell_type": "code",
   "execution_count": 10,
   "metadata": {},
   "outputs": [
    {
     "data": {
      "text/html": [
       "<div>\n",
       "<style scoped>\n",
       "    .dataframe tbody tr th:only-of-type {\n",
       "        vertical-align: middle;\n",
       "    }\n",
       "\n",
       "    .dataframe tbody tr th {\n",
       "        vertical-align: top;\n",
       "    }\n",
       "\n",
       "    .dataframe thead th {\n",
       "        text-align: right;\n",
       "    }\n",
       "</style>\n",
       "<table border=\"1\" class=\"dataframe\">\n",
       "  <thead>\n",
       "    <tr style=\"text-align: right;\">\n",
       "      <th></th>\n",
       "      <th>Pclass</th>\n",
       "      <th>Age</th>\n",
       "      <th>SibSp</th>\n",
       "      <th>Parch</th>\n",
       "      <th>Fare</th>\n",
       "      <th>CabinNumber</th>\n",
       "      <th>Survived</th>\n",
       "    </tr>\n",
       "  </thead>\n",
       "  <tbody>\n",
       "    <tr>\n",
       "      <th>Pclass</th>\n",
       "      <td>100.000000</td>\n",
       "      <td>-33.133877</td>\n",
       "      <td>8.308136</td>\n",
       "      <td>1.844267</td>\n",
       "      <td>-54.949962</td>\n",
       "      <td>-57.330241</td>\n",
       "      <td>-33.848104</td>\n",
       "    </tr>\n",
       "    <tr>\n",
       "      <th>Age</th>\n",
       "      <td>-33.133877</td>\n",
       "      <td>100.000000</td>\n",
       "      <td>-23.262459</td>\n",
       "      <td>-17.919092</td>\n",
       "      <td>9.156609</td>\n",
       "      <td>19.414434</td>\n",
       "      <td>-6.980852</td>\n",
       "    </tr>\n",
       "    <tr>\n",
       "      <th>SibSp</th>\n",
       "      <td>8.308136</td>\n",
       "      <td>-23.262459</td>\n",
       "      <td>100.000000</td>\n",
       "      <td>41.483770</td>\n",
       "      <td>15.965104</td>\n",
       "      <td>-3.874046</td>\n",
       "      <td>-3.532250</td>\n",
       "    </tr>\n",
       "    <tr>\n",
       "      <th>Parch</th>\n",
       "      <td>1.844267</td>\n",
       "      <td>-17.919092</td>\n",
       "      <td>41.483770</td>\n",
       "      <td>100.000000</td>\n",
       "      <td>21.622494</td>\n",
       "      <td>0.164006</td>\n",
       "      <td>8.162941</td>\n",
       "    </tr>\n",
       "    <tr>\n",
       "      <th>Fare</th>\n",
       "      <td>-54.949962</td>\n",
       "      <td>9.156609</td>\n",
       "      <td>15.965104</td>\n",
       "      <td>21.622494</td>\n",
       "      <td>100.000000</td>\n",
       "      <td>40.561858</td>\n",
       "      <td>25.730652</td>\n",
       "    </tr>\n",
       "    <tr>\n",
       "      <th>CabinNumber</th>\n",
       "      <td>-57.330241</td>\n",
       "      <td>19.414434</td>\n",
       "      <td>-3.874046</td>\n",
       "      <td>0.164006</td>\n",
       "      <td>40.561858</td>\n",
       "      <td>100.000000</td>\n",
       "      <td>22.975624</td>\n",
       "    </tr>\n",
       "    <tr>\n",
       "      <th>Survived</th>\n",
       "      <td>-33.848104</td>\n",
       "      <td>-6.980852</td>\n",
       "      <td>-3.532250</td>\n",
       "      <td>8.162941</td>\n",
       "      <td>25.730652</td>\n",
       "      <td>22.975624</td>\n",
       "      <td>100.000000</td>\n",
       "    </tr>\n",
       "  </tbody>\n",
       "</table>\n",
       "</div>"
      ],
      "text/plain": [
       "                 Pclass         Age       SibSp       Parch        Fare  \\\n",
       "Pclass       100.000000  -33.133877    8.308136    1.844267  -54.949962   \n",
       "Age          -33.133877  100.000000  -23.262459  -17.919092    9.156609   \n",
       "SibSp          8.308136  -23.262459  100.000000   41.483770   15.965104   \n",
       "Parch          1.844267  -17.919092   41.483770  100.000000   21.622494   \n",
       "Fare         -54.949962    9.156609   15.965104   21.622494  100.000000   \n",
       "CabinNumber  -57.330241   19.414434   -3.874046    0.164006   40.561858   \n",
       "Survived     -33.848104   -6.980852   -3.532250    8.162941   25.730652   \n",
       "\n",
       "             CabinNumber    Survived  \n",
       "Pclass        -57.330241  -33.848104  \n",
       "Age            19.414434   -6.980852  \n",
       "SibSp          -3.874046   -3.532250  \n",
       "Parch           0.164006    8.162941  \n",
       "Fare           40.561858   25.730652  \n",
       "CabinNumber   100.000000   22.975624  \n",
       "Survived       22.975624  100.000000  "
      ]
     },
     "execution_count": 10,
     "metadata": {},
     "output_type": "execute_result"
    }
   ],
   "source": [
    "titanic_dropped[num_cols + ['Survived']].corr()*100"
   ]
  },
  {
   "cell_type": "markdown",
   "metadata": {},
   "source": [
    "We will now tweak the test data accordingly."
   ]
  },
  {
   "cell_type": "code",
   "execution_count": 11,
   "metadata": {},
   "outputs": [
    {
     "data": {
      "text/html": [
       "<div>\n",
       "<style scoped>\n",
       "    .dataframe tbody tr th:only-of-type {\n",
       "        vertical-align: middle;\n",
       "    }\n",
       "\n",
       "    .dataframe tbody tr th {\n",
       "        vertical-align: top;\n",
       "    }\n",
       "\n",
       "    .dataframe thead th {\n",
       "        text-align: right;\n",
       "    }\n",
       "</style>\n",
       "<table border=\"1\" class=\"dataframe\">\n",
       "  <thead>\n",
       "    <tr style=\"text-align: right;\">\n",
       "      <th></th>\n",
       "      <th>Pclass</th>\n",
       "      <th>Sex</th>\n",
       "      <th>Age</th>\n",
       "      <th>SibSp</th>\n",
       "      <th>Parch</th>\n",
       "      <th>Ticket</th>\n",
       "      <th>Fare</th>\n",
       "      <th>Embarked</th>\n",
       "      <th>Honorific</th>\n",
       "      <th>Surname</th>\n",
       "      <th>CabinName</th>\n",
       "      <th>CabinNumber</th>\n",
       "    </tr>\n",
       "    <tr>\n",
       "      <th>PassengerId</th>\n",
       "      <th></th>\n",
       "      <th></th>\n",
       "      <th></th>\n",
       "      <th></th>\n",
       "      <th></th>\n",
       "      <th></th>\n",
       "      <th></th>\n",
       "      <th></th>\n",
       "      <th></th>\n",
       "      <th></th>\n",
       "      <th></th>\n",
       "      <th></th>\n",
       "    </tr>\n",
       "  </thead>\n",
       "  <tbody>\n",
       "    <tr>\n",
       "      <th>892</th>\n",
       "      <td>3</td>\n",
       "      <td>male</td>\n",
       "      <td>NaN</td>\n",
       "      <td>0</td>\n",
       "      <td>0</td>\n",
       "      <td>330911</td>\n",
       "      <td>7.8292</td>\n",
       "      <td>Q</td>\n",
       "      <td>Mr</td>\n",
       "      <td>Kelly</td>\n",
       "      <td>NaN</td>\n",
       "      <td>0</td>\n",
       "    </tr>\n",
       "    <tr>\n",
       "      <th>893</th>\n",
       "      <td>3</td>\n",
       "      <td>female</td>\n",
       "      <td>NaN</td>\n",
       "      <td>1</td>\n",
       "      <td>0</td>\n",
       "      <td>363272</td>\n",
       "      <td>7.0000</td>\n",
       "      <td>S</td>\n",
       "      <td>Mrs</td>\n",
       "      <td>Wilkes</td>\n",
       "      <td>NaN</td>\n",
       "      <td>0</td>\n",
       "    </tr>\n",
       "    <tr>\n",
       "      <th>894</th>\n",
       "      <td>2</td>\n",
       "      <td>male</td>\n",
       "      <td>NaN</td>\n",
       "      <td>0</td>\n",
       "      <td>0</td>\n",
       "      <td>240276</td>\n",
       "      <td>9.6875</td>\n",
       "      <td>Q</td>\n",
       "      <td>Mr</td>\n",
       "      <td>Myles</td>\n",
       "      <td>NaN</td>\n",
       "      <td>0</td>\n",
       "    </tr>\n",
       "    <tr>\n",
       "      <th>895</th>\n",
       "      <td>3</td>\n",
       "      <td>male</td>\n",
       "      <td>NaN</td>\n",
       "      <td>0</td>\n",
       "      <td>0</td>\n",
       "      <td>315154</td>\n",
       "      <td>8.6625</td>\n",
       "      <td>S</td>\n",
       "      <td>Mr</td>\n",
       "      <td>Wirz</td>\n",
       "      <td>NaN</td>\n",
       "      <td>0</td>\n",
       "    </tr>\n",
       "    <tr>\n",
       "      <th>896</th>\n",
       "      <td>3</td>\n",
       "      <td>female</td>\n",
       "      <td>NaN</td>\n",
       "      <td>1</td>\n",
       "      <td>1</td>\n",
       "      <td>3101298</td>\n",
       "      <td>12.2875</td>\n",
       "      <td>S</td>\n",
       "      <td>Mrs</td>\n",
       "      <td>Hirvonen</td>\n",
       "      <td>NaN</td>\n",
       "      <td>0</td>\n",
       "    </tr>\n",
       "  </tbody>\n",
       "</table>\n",
       "</div>"
      ],
      "text/plain": [
       "             Pclass     Sex  Age  SibSp  Parch   Ticket     Fare Embarked  \\\n",
       "PassengerId                                                                 \n",
       "892               3    male  NaN      0      0   330911   7.8292        Q   \n",
       "893               3  female  NaN      1      0   363272   7.0000        S   \n",
       "894               2    male  NaN      0      0   240276   9.6875        Q   \n",
       "895               3    male  NaN      0      0   315154   8.6625        S   \n",
       "896               3  female  NaN      1      1  3101298  12.2875        S   \n",
       "\n",
       "            Honorific   Surname CabinName  CabinNumber  \n",
       "PassengerId                                             \n",
       "892                Mr     Kelly       NaN            0  \n",
       "893               Mrs    Wilkes       NaN            0  \n",
       "894                Mr     Myles       NaN            0  \n",
       "895                Mr      Wirz       NaN            0  \n",
       "896               Mrs  Hirvonen       NaN            0  "
      ]
     },
     "execution_count": 11,
     "metadata": {},
     "output_type": "execute_result"
    }
   ],
   "source": [
    "titanic_test = pd.read_csv(file_path + 'test.csv', index_col = 'PassengerId')\n",
    "titanic_test['Age'] = titanic['Age'].fillna(value = titanic.Age.mean()).astype('float64')\n",
    "titanic_test['Honorific'] = titanic_test['Name'].str.extract('([A-Za-z]+)\\.')\n",
    "titanic_test['Surname'] = titanic_test['Name'].str.extract('([A-Za-z]+)\\,')\n",
    "titanic_test['CabinName'] = titanic_test.Cabin.str.extract(r'([A-Z])')\n",
    "titanic_test['CabinNumber'] = titanic_test.Cabin.str.extract(r'(\\d+)', expand=False).fillna(value = 0).astype('int64') \n",
    "\n",
    "titanic_test_dropped = titanic_test.drop(['Name', 'Cabin'], axis = 1)\n",
    "\n",
    "good_cols = [col for col in feature_cols if col in titanic_test_dropped.columns]\n",
    "x_deploy = titanic_test[good_cols]\n",
    "titanic_test_dropped.head()"
   ]
  },
  {
   "cell_type": "markdown",
   "metadata": {},
   "source": [
    "Originally, I've used the following code to search for the optimal parameters and to deploy the model. It is computationally expensive (it took me 38 minutes to run this code) so we'll use a different approach."
   ]
  },
  {
   "cell_type": "code",
   "execution_count": 12,
   "metadata": {},
   "outputs": [
    {
     "data": {
      "text/plain": [
       "\"\\nparams = {}\\nfor node_val in range(10,500,50):\\n    for estim in range(1, 200, 20):\\n        for depth in range(1, 100, 1):\\n            model = RandomForestClassifier(n_estimators = estim, max_leaf_nodes = node_val, max_depth = depth, random_state = 0)\\n            pipeline = Pipeline(steps = [('preprocess', preprocessor),('model', model)])\\n            pipeline.fit(x_train, y_train.values.ravel())\\n            predicted_vals = pipeline.predict(x_val)\\n            y_pred = pd.DataFrame(predicted_vals, index = y_val.index, columns = ['SurvivedPred'])\\n            correct = y_pred.SurvivedPred[y_pred.SurvivedPred == y_val.Survived].count()\\n            total = y_val.Survived.count()\\n            params[(node_val, estim, depth)] = 100*correct/total\\noptimal_params = max(params, key = params.get)\\nopt_nodes, opt_estim, opt_depth = optimal_params\\nprint('The optimal parameters are (max_leaf_nodes, n_estimators, max_depth) = {} with an accuracy of {:.2f}%'.format(optimal_params, params[optimal_params]))\\n\\nmodel = RandomForestClassifier(n_estimators = opt_estim, max_leaf_nodes = opt_nodes, max_depth = opt_depth, random_state = 0)\\npipeline = Pipeline(steps = [('preprocess', preprocessor),('model', model)])\\npipeline.fit(x_feats, y_targ.values.ravel())\\nfinal_pred = pipeline.predict(x_deploy)\\n\\noutput = pd.DataFrame({'PassengerId': titanic_test.index, 'Survived': final_pred})\\noutput.to_csv('titanic_predict.csv', index=False)\\n\""
      ]
     },
     "execution_count": 12,
     "metadata": {},
     "output_type": "execute_result"
    }
   ],
   "source": [
    "\"\"\"\n",
    "params = {}\n",
    "for node_val in range(10,500,50):\n",
    "    for estim in range(1, 200, 20):\n",
    "        for depth in range(1, 100, 1):\n",
    "            model = RandomForestClassifier(n_estimators = estim, max_leaf_nodes = node_val, max_depth = depth, random_state = 0)\n",
    "            pipeline = Pipeline(steps = [('preprocess', preprocessor),('model', model)])\n",
    "            pipeline.fit(x_train, y_train.values.ravel())\n",
    "            predicted_vals = pipeline.predict(x_val)\n",
    "            y_pred = pd.DataFrame(predicted_vals, index = y_val.index, columns = ['SurvivedPred'])\n",
    "            correct = y_pred.SurvivedPred[y_pred.SurvivedPred == y_val.Survived].count()\n",
    "            total = y_val.Survived.count()\n",
    "            params[(node_val, estim, depth)] = 100*correct/total\n",
    "optimal_params = max(params, key = params.get)\n",
    "opt_nodes, opt_estim, opt_depth = optimal_params\n",
    "print('The optimal parameters are (max_leaf_nodes, n_estimators, max_depth) = {} with an accuracy of {:.2f}%'.format(optimal_params, params[optimal_params]))\n",
    "\n",
    "model = RandomForestClassifier(n_estimators = opt_estim, max_leaf_nodes = opt_nodes, max_depth = opt_depth, random_state = 0)\n",
    "pipeline = Pipeline(steps = [('preprocess', preprocessor),('model', model)])\n",
    "pipeline.fit(x_feats, y_targ.values.ravel())\n",
    "final_pred = pipeline.predict(x_deploy)\n",
    "\n",
    "output = pd.DataFrame({'PassengerId': titanic_test.index, 'Survived': final_pred})\n",
    "output.to_csv('titanic_predict.csv', index=False)\n",
    "\"\"\""
   ]
  },
  {
   "cell_type": "markdown",
   "metadata": {},
   "source": [
    "Now, I'll use RandomizedSearchCV. Here, we won't use the validation set since it uses cross-validation."
   ]
  },
  {
   "cell_type": "code",
   "execution_count": 13,
   "metadata": {},
   "outputs": [
    {
     "name": "stdout",
     "output_type": "stream",
     "text": [
      "Fitting 5 folds for each of 400 candidates, totalling 2000 fits\n"
     ]
    },
    {
     "name": "stdout",
     "output_type": "stream",
     "text": [
      "Optimal estimators: 20\n",
      "Optimal maximum leaf nodes: 225\n",
      "Optimal depth: 78\n",
      "Optimal minimum number of samples to split: 2\n",
      "Optimal minimum leaves per node: 1\n",
      "The best score given the optimum parameters is 82.15%\n"
     ]
    }
   ],
   "source": [
    "from sklearn.model_selection import RandomizedSearchCV\n",
    "\n",
    "model = RandomForestClassifier(random_state=0)\n",
    "pipeline = Pipeline(steps=[('preprocess', preprocessor), ('model', model)])\n",
    "\n",
    "max_leaf_nodes = [node_val for node_val in range(1, 500, 1)]\n",
    "max_depth = [depth for depth in range(1, 100, 1)]\n",
    "min_samples_split = [*range(2, 10, 1)]\n",
    "min_samples_leaf = [*range(1, 10, 1)]\n",
    "\n",
    "random_grid = {'model__max_leaf_nodes': max_leaf_nodes, \n",
    "               'model__max_depth': max_depth, \n",
    "               'model__min_samples_split': min_samples_split, \n",
    "               'model__min_samples_leaf': min_samples_leaf}\n",
    "n_estimators = [estim for estim in range(1, 200, 1)]\n",
    "\n",
    "model_random = RandomizedSearchCV(\n",
    "    estimator=pipeline,\n",
    "    param_distributions={**random_grid, 'model__n_estimators': n_estimators},\n",
    "    n_iter=400, cv=5, verbose=3, random_state=0, n_jobs=-1\n",
    ")\n",
    "\n",
    "model_random.fit(x_feats, y_targ.values.ravel())\n",
    "\n",
    "opt_estim = model_random.best_params_['model__n_estimators']\n",
    "opt_nodes = model_random.best_params_['model__max_leaf_nodes']\n",
    "opt_depth = model_random.best_params_['model__max_depth']\n",
    "opt_minsplit = model_random.best_params_['model__min_samples_split']\n",
    "opt_minleaf = model_random.best_params_['model__min_samples_leaf']\n",
    "\n",
    "print('Optimal estimators: {}'.format(opt_estim))\n",
    "print('Optimal maximum leaf nodes: {}'.format(opt_nodes))\n",
    "print('Optimal depth: {}'.format(opt_depth))\n",
    "print('Optimal minimum number of samples to split: {}'.format(opt_minsplit))\n",
    "print('Optimal minimum leaves per node: {}'.format(opt_minleaf))\n",
    "print('The best score given the optimum parameters is {:.2f}%'.format(100*model_random.best_score_))"
   ]
  },
  {
   "cell_type": "markdown",
   "metadata": {},
   "source": [
    "We will now deploy the model."
   ]
  },
  {
   "cell_type": "code",
   "execution_count": 14,
   "metadata": {},
   "outputs": [],
   "source": [
    "model = RandomForestClassifier(n_estimators = opt_estim, \n",
    "                               max_leaf_nodes = opt_nodes, \n",
    "                               max_depth = opt_depth, \n",
    "                               min_samples_split = opt_minsplit, \n",
    "                               min_samples_leaf = opt_minleaf, \n",
    "                               random_state = 0)\n",
    "pipeline = Pipeline(steps = [('preprocess', preprocessor),('model', model)])\n",
    "pipeline.fit(x_feats, y_targ.values.ravel())\n",
    "final_pred = pipeline.predict(x_deploy)\n",
    "\n",
    "output = pd.DataFrame({'PassengerId': titanic_test.index, 'Survived': final_pred})\n",
    "output.to_csv('titanic_predict_rscv(ft).csv', index=False)"
   ]
  }
 ],
 "metadata": {
  "kernelspec": {
   "display_name": "base",
   "language": "python",
   "name": "python3"
  },
  "language_info": {
   "codemirror_mode": {
    "name": "ipython",
    "version": 3
   },
   "file_extension": ".py",
   "mimetype": "text/x-python",
   "name": "python",
   "nbconvert_exporter": "python",
   "pygments_lexer": "ipython3",
   "version": "3.9.13"
  }
 },
 "nbformat": 4,
 "nbformat_minor": 2
}

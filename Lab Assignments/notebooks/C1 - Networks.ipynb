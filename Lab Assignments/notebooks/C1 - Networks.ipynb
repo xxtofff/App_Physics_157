{
  "cells": [
    {
      "cell_type": "markdown",
      "metadata": {
        "id": "RSdzzrWrgAXu"
      },
      "source": [
        "# **AP157 Module C Lab Assignment**\n",
        "\n",
        "## Module C1: Networks\n",
        "\n",
        "_Instructions_: Answer each part of the assignment as completely as you can. Discuss **all** your code and results as clearly and concisely as possible.\n",
        "\n",
        "_Scoring Criteria_: 50% - *correctness of code*; 50% - *discussion of the code and results*. Maximum score is **100 points** (Parts 1 and 2 are worth 20 and 80 points, respectively).\n",
        "\n",
        "_Credits_: The sample social network used is taken from https://nauczanki.wordpress.com/2014/11/10/social-network-analysis-basics-in-300-words-dalmooc-assignment-week-3/, which in turn is taken from an unspecified MOOC assignment."
      ]
    },
    {
      "cell_type": "markdown",
      "metadata": {
        "id": "I_dmUyo2pxIt"
      },
      "source": [
        "### Student Information\n",
        "\n",
        "_Full Name (Last Name, First Name)_: Mendoza, Genesis Adam \\\n",
        "_Student No._: 2019-05415 \\\n",
        "_Section_: THY-TX-2"
      ]
    },
    {
      "cell_type": "markdown",
      "metadata": {
        "id": "LyO1CnkFp17G"
      },
      "source": [
        "### Submission Information\n",
        "\n",
        "_Date and Time Submitted (most recent upload)_: 23/05/2024 - 11:47 PM\n",
        "\n",
        "**HONOR PLEDGE** I affirm that I have upheld the highest principles of honesty and integrity in my academic work and that this lab assignment is my own work.\n",
        "\n",
        "**Sign here with your full name: GENESIS ADAM D. MENDOZA**"
      ]
    },
    {
      "cell_type": "markdown",
      "metadata": {
        "id": "xgse8Mt5p35S"
      },
      "source": [
        "### Grading Information (c/o Instructor)\n",
        "\n",
        "TOTAL SCORE: **[]**/100\n",
        "\n",
        "Score breakdown:\n",
        "* Part 1 - []/30\n",
        "* Part 2 - []/30\n",
        "* Part 3 - []/30\n",
        "* Part 4 - []/40\n",
        "\n",
        "_Date and Time Scored (MM/DD/YYYY HH:MM AM/PM):_"
      ]
    },
    {
      "cell_type": "markdown",
      "metadata": {
        "id": "ume3h45hdJFm"
      },
      "source": [
        "For all parts of this assignment,  refer to the diagram of the sample social network in the Google Drive \"Datasets\" Folder (https://drive.google.com/file/d/1DkAK44GfocX0bmlSfK5Q6cbYXAUkixyj/view?usp=drive_link)"
      ]
    },
    {
      "cell_type": "markdown",
      "metadata": {},
      "source": [
        "Import necessary packages."
      ]
    },
    {
      "cell_type": "code",
      "execution_count": 37,
      "metadata": {},
      "outputs": [],
      "source": [
        "import networkx as nx \n",
        "import matplotlib.pyplot as plt\n",
        "import pandas as pd\n",
        "import numpy as np\n",
        "from community import community_louvain\n",
        "from networkx.algorithms.community import greedy_modularity_communities, louvain_communities, modularity\n",
        "import seaborn as sns\n"
      ]
    },
    {
      "cell_type": "markdown",
      "metadata": {
        "id": "gAgom2vqp-2X"
      },
      "source": [
        "#### PART 1 - Network generation and characteristics *(30 points)*\n",
        "\n",
        "1. Using the Python package networkx, define a network that represents the social network of friends in the diagram. *(15 points)*  "
      ]
    },
    {
      "cell_type": "markdown",
      "metadata": {},
      "source": [
        "### Solution\n",
        "\n",
        "Write the pairs connected to each other as a list of tuples."
      ]
    },
    {
      "cell_type": "code",
      "execution_count": 38,
      "metadata": {},
      "outputs": [],
      "source": [
        "soc_net = [('Lisa', 'Allen'),('Allen', 'Liz'), ('Liz', 'Emma'), ('Liz', 'Shane'), ('Emma', 'Mike'), ('Emma', 'Bob'), ('Emma', 'Jill'), ('Emma', 'Shane'), ('Shane', 'Jill'), ('Shane', 'John'), ('Shane', 'Leah'), ('Jill', 'Mike'), ('Jill', 'Leah'), ('Jill', 'Bob'), ('Jill', 'John'), ('Mike', 'Bob'), ('Bob', 'John'), ('John', 'Leah')]"
      ]
    },
    {
      "cell_type": "markdown",
      "metadata": {},
      "source": [
        "Plot this."
      ]
    },
    {
      "cell_type": "code",
      "execution_count": 39,
      "metadata": {
        "id": "U5dRTIPWfNss"
      },
      "outputs": [
        {
          "data": {
            "image/png": "[encoded data removed]",
            "text/plain": [
              "<Figure size 432x288 with 1 Axes>"
            ]
          },
          "metadata": {},
          "output_type": "display_data"
        }
      ],
      "source": [
        "soc_graph = nx.from_edgelist(soc_net)\n",
        "nx.draw_kamada_kawai(soc_graph, with_labels = True, node_size=2000, node_color = '#ffcba4', font_color = '#612600')\n",
        "plt.show()"
      ]
    },
    {
      "cell_type": "markdown",
      "metadata": {},
      "source": [
        "2. Calculate the ff. network characteristics: *(15 points; 5 points each)*\n",
        "- Diameter\n",
        "- Density\n",
        "- Average Degree"
      ]
    },
    {
      "cell_type": "markdown",
      "metadata": {},
      "source": [
        "### Solution\n",
        "\n",
        "We can simply use the built-in functions."
      ]
    },
    {
      "cell_type": "code",
      "execution_count": 40,
      "metadata": {},
      "outputs": [
        {
          "name": "stdout",
          "output_type": "stream",
          "text": [
            "The diameter is 4\n",
            "The density is 0.4\n"
          ]
        },
        {
          "data": {
            "text/html": [
              "<div>\n",
              "<style scoped>\n",
              "    .dataframe tbody tr th:only-of-type {\n",
              "        vertical-align: middle;\n",
              "    }\n",
              "\n",
              "    .dataframe tbody tr th {\n",
              "        vertical-align: top;\n",
              "    }\n",
              "\n",
              "    .dataframe thead th {\n",
              "        text-align: right;\n",
              "    }\n",
              "</style>\n",
              "<table border=\"1\" class=\"dataframe\">\n",
              "  <thead>\n",
              "    <tr style=\"text-align: right;\">\n",
              "      <th></th>\n",
              "      <th>Average Neighbor Degree</th>\n",
              "    </tr>\n",
              "    <tr>\n",
              "      <th>Name</th>\n",
              "      <th></th>\n",
              "    </tr>\n",
              "  </thead>\n",
              "  <tbody>\n",
              "    <tr>\n",
              "      <th>Lisa</th>\n",
              "      <td>2.0</td>\n",
              "    </tr>\n",
              "    <tr>\n",
              "      <th>Allen</th>\n",
              "      <td>2.0</td>\n",
              "    </tr>\n",
              "    <tr>\n",
              "      <th>Liz</th>\n",
              "      <td>4.0</td>\n",
              "    </tr>\n",
              "    <tr>\n",
              "      <th>Emma</th>\n",
              "      <td>4.2</td>\n",
              "    </tr>\n",
              "    <tr>\n",
              "      <th>Shane</th>\n",
              "      <td>4.2</td>\n",
              "    </tr>\n",
              "    <tr>\n",
              "      <th>Mike</th>\n",
              "      <td>5.0</td>\n",
              "    </tr>\n",
              "    <tr>\n",
              "      <th>Bob</th>\n",
              "      <td>4.5</td>\n",
              "    </tr>\n",
              "    <tr>\n",
              "      <th>Jill</th>\n",
              "      <td>4.0</td>\n",
              "    </tr>\n",
              "    <tr>\n",
              "      <th>John</th>\n",
              "      <td>4.5</td>\n",
              "    </tr>\n",
              "    <tr>\n",
              "      <th>Leah</th>\n",
              "      <td>5.0</td>\n",
              "    </tr>\n",
              "  </tbody>\n",
              "</table>\n",
              "</div>"
            ],
            "text/plain": [
              "       Average Neighbor Degree\n",
              "Name                          \n",
              "Lisa                       2.0\n",
              "Allen                      2.0\n",
              "Liz                        4.0\n",
              "Emma                       4.2\n",
              "Shane                      4.2\n",
              "Mike                       5.0\n",
              "Bob                        4.5\n",
              "Jill                       4.0\n",
              "John                       4.5\n",
              "Leah                       5.0"
            ]
          },
          "execution_count": 40,
          "metadata": {},
          "output_type": "execute_result"
        }
      ],
      "source": [
        "diam = nx.diameter(soc_graph)\n",
        "dens = nx.density(soc_graph)\n",
        "deg_ave = nx.average_neighbor_degree(soc_graph)\n",
        "\n",
        "print('The diameter is {}'.format(diam))\n",
        "print('The density is {}'.format(dens))\n",
        "pd.DataFrame({'Name': deg_ave.keys(), 'Average Neighbor Degree': deg_ave.values()}).set_index('Name')"
      ]
    },
    {
      "cell_type": "markdown",
      "metadata": {},
      "source": [
        "3. Create the degree distribution plot and briefly discuss what it tells us about this social network. *(10 points)*"
      ]
    },
    {
      "cell_type": "code",
      "execution_count": 41,
      "metadata": {},
      "outputs": [
        {
          "data": {
            "image/png": "[encoded data removed]",
            "text/plain": [
              "<Figure size 432x288 with 1 Axes>"
            ]
          },
          "metadata": {
            "needs_background": "light"
          },
          "output_type": "display_data"
        }
      ],
      "source": [
        "#Make a list containing the degree of each node\n",
        "degrees = [soc_graph.degree(node) for node in soc_graph.nodes()]\n",
        "#Make a dictionary with the keys corresponding to the degree and the values corresponding to how often it occured in the degree list\n",
        "count = {i:len([val for val in degrees if val == i]) for i in np.unique(degrees)}\n",
        "#Create the bar plot\n",
        "plt.bar(count.keys(), count.values())\n",
        "plt.show()"
      ]
    },
    {
      "cell_type": "markdown",
      "metadata": {},
      "source": [
        "Most of the nodes have 3 connections, following it are 4 and 5 connections. This tells us that this is a highly connected network. However, there are two nodes that are disconnected from the rest (degrees 1 and 2). "
      ]
    },
    {
      "cell_type": "markdown",
      "metadata": {
        "id": "aE9PlOt1fIUb"
      },
      "source": [
        "#### PART 2 - Centrality Measures *(30 points)*\n",
        "\n",
        "Generate a table of centrality measures per node. Columns are:\n",
        "- Name\n",
        "- Degree Centrality\n",
        "- Betweenness Centrality\n",
        "- Closeness Centrality\n",
        "\n",
        "Briefly discuss who are the most \"central\" people in the social network and why."
      ]
    },
    {
      "cell_type": "markdown",
      "metadata": {},
      "source": [
        "### Solution\n",
        "\n",
        "We will use `networkx`'s built-in functions to get the centrality measures."
      ]
    },
    {
      "cell_type": "code",
      "execution_count": 42,
      "metadata": {
        "id": "PnLzHa-rfOOI"
      },
      "outputs": [
        {
          "data": {
            "text/html": [
              "<div>\n",
              "<style scoped>\n",
              "    .dataframe tbody tr th:only-of-type {\n",
              "        vertical-align: middle;\n",
              "    }\n",
              "\n",
              "    .dataframe tbody tr th {\n",
              "        vertical-align: top;\n",
              "    }\n",
              "\n",
              "    .dataframe thead th {\n",
              "        text-align: right;\n",
              "    }\n",
              "</style>\n",
              "<table border=\"1\" class=\"dataframe\">\n",
              "  <thead>\n",
              "    <tr style=\"text-align: right;\">\n",
              "      <th></th>\n",
              "      <th>Degree Centrality</th>\n",
              "      <th>Betweenness Centrality</th>\n",
              "      <th>Closeness Centrality</th>\n",
              "    </tr>\n",
              "    <tr>\n",
              "      <th>Names</th>\n",
              "      <th></th>\n",
              "      <th></th>\n",
              "      <th></th>\n",
              "    </tr>\n",
              "  </thead>\n",
              "  <tbody>\n",
              "    <tr>\n",
              "      <th>Lisa</th>\n",
              "      <td>0.111111</td>\n",
              "      <td>0.000000</td>\n",
              "      <td>0.310345</td>\n",
              "    </tr>\n",
              "    <tr>\n",
              "      <th>Allen</th>\n",
              "      <td>0.222222</td>\n",
              "      <td>0.222222</td>\n",
              "      <td>0.428571</td>\n",
              "    </tr>\n",
              "    <tr>\n",
              "      <th>Liz</th>\n",
              "      <td>0.333333</td>\n",
              "      <td>0.388889</td>\n",
              "      <td>0.600000</td>\n",
              "    </tr>\n",
              "    <tr>\n",
              "      <th>Emma</th>\n",
              "      <td>0.555556</td>\n",
              "      <td>0.231481</td>\n",
              "      <td>0.642857</td>\n",
              "    </tr>\n",
              "    <tr>\n",
              "      <th>Shane</th>\n",
              "      <td>0.555556</td>\n",
              "      <td>0.231481</td>\n",
              "      <td>0.642857</td>\n",
              "    </tr>\n",
              "    <tr>\n",
              "      <th>Mike</th>\n",
              "      <td>0.333333</td>\n",
              "      <td>0.000000</td>\n",
              "      <td>0.500000</td>\n",
              "    </tr>\n",
              "    <tr>\n",
              "      <th>Bob</th>\n",
              "      <td>0.444444</td>\n",
              "      <td>0.023148</td>\n",
              "      <td>0.529412</td>\n",
              "    </tr>\n",
              "    <tr>\n",
              "      <th>Jill</th>\n",
              "      <td>0.666667</td>\n",
              "      <td>0.101852</td>\n",
              "      <td>0.600000</td>\n",
              "    </tr>\n",
              "    <tr>\n",
              "      <th>John</th>\n",
              "      <td>0.444444</td>\n",
              "      <td>0.023148</td>\n",
              "      <td>0.529412</td>\n",
              "    </tr>\n",
              "    <tr>\n",
              "      <th>Leah</th>\n",
              "      <td>0.333333</td>\n",
              "      <td>0.000000</td>\n",
              "      <td>0.500000</td>\n",
              "    </tr>\n",
              "  </tbody>\n",
              "</table>\n",
              "</div>"
            ],
            "text/plain": [
              "       Degree Centrality  Betweenness Centrality  Closeness Centrality\n",
              "Names                                                                 \n",
              "Lisa            0.111111                0.000000              0.310345\n",
              "Allen           0.222222                0.222222              0.428571\n",
              "Liz             0.333333                0.388889              0.600000\n",
              "Emma            0.555556                0.231481              0.642857\n",
              "Shane           0.555556                0.231481              0.642857\n",
              "Mike            0.333333                0.000000              0.500000\n",
              "Bob             0.444444                0.023148              0.529412\n",
              "Jill            0.666667                0.101852              0.600000\n",
              "John            0.444444                0.023148              0.529412\n",
              "Leah            0.333333                0.000000              0.500000"
            ]
          },
          "execution_count": 42,
          "metadata": {},
          "output_type": "execute_result"
        }
      ],
      "source": [
        "deg_cent = nx.degree_centrality(soc_graph) #degree centrality\n",
        "bet_cent = nx.betweenness_centrality(soc_graph) #betweenness centrality\n",
        "cl_cent = nx.closeness_centrality(soc_graph) #closeness centrality\n",
        "\n",
        "\n",
        "names = pd.Series(deg_cent.keys(), name='Names') #create a series containing the names (nodes)\n",
        "cent_table = pd.DataFrame({'Degree Centrality': deg_cent.values(), 'Betweenness Centrality': bet_cent.values(), 'Closeness Centrality': cl_cent.values()}, index = names)\n",
        "cent_table #create the centrality table whose index is the 'names' series"
      ]
    },
    {
      "cell_type": "markdown",
      "metadata": {
        "id": "RmD300mBfQQH"
      },
      "source": [
        "#### PART 3 - Identify communities *(40 points)*\n",
        "\n",
        "1. Identify communities in the social network using *(30 points)*:\n",
        "- Louvain community detection algorithm\n",
        "- Any other community detection algorithm of your choice\n",
        "\n",
        "2. Calculate the modularity of the partitions from the two community detection algorithms. *(10 points)*\n",
        "\n",
        "Briefly describe the algorithm you used and compare the results from the two algorithms."
      ]
    },
    {
      "cell_type": "markdown",
      "metadata": {},
      "source": [
        "### Solution\n",
        "\n",
        "For the Louvain algorithm, we will use the `community_louvain` function from the `community` package."
      ]
    },
    {
      "cell_type": "code",
      "execution_count": 43,
      "metadata": {},
      "outputs": [
        {
          "data": {
            "image/png": "[encoded data removed]",
            "text/plain": [
              "<Figure size 432x288 with 1 Axes>"
            ]
          },
          "metadata": {},
          "output_type": "display_data"
        }
      ],
      "source": [
        "#We will use the Louvain algorithm to assign a number to each node corresponding to what community they belong to\n",
        "partition = community_louvain.best_partition(soc_graph)\n",
        "#We will color each node depending on what community they belong to\n",
        "nx.draw_kamada_kawai(soc_graph, with_labels = True, node_size=2000, cmap='Pastel1', node_color=list(partition.values()))\n",
        "plt.title('Louvain Algorithm')\n",
        "plt.show()"
      ]
    },
    {
      "cell_type": "code",
      "execution_count": 44,
      "metadata": {},
      "outputs": [
        {
          "name": "stdout",
          "output_type": "stream",
          "text": [
            "The modularity for the Louvain algorithm is 0.2222222222222222\n"
          ]
        }
      ],
      "source": [
        "#We will sort out the community. We will make a list of sets whose elements contain the individuals in the community\n",
        "part = [{key for key in partition.keys() if partition[key] == i} for i in range(len((np.unique([elem for elem in partition.values()]))))]\n",
        "#We will then feed our graph and list of communities on the modularity function\n",
        "louv_modul = modularity(soc_graph, part)\n",
        "print('The modularity for the Louvain algorithm is {}'.format(louv_modul))"
      ]
    },
    {
      "cell_type": "markdown",
      "metadata": {},
      "source": [
        "We will use the [Clauset-Newman-Moore](https://journals.aps.org/pre/abstract/10.1103/PhysRevE.70.066111) algorithm. It is a predecessor of Louvain, whose attack on the problem is also optimizing the modularity function. Nodes are aggregated in such a way that maximizes the modularity function until we can't increase it further. Being a predecessor, it included inefficiencies that arises from large networks (million nodes) in terms of computation time and errors, according to [Blondel et al](https://iopscience.iop.org/article/10.1088/1742-5468/2008/10/P10008). These problems were already solved by Louvain. Still, let's use it. First, let's group them together"
      ]
    },
    {
      "cell_type": "code",
      "execution_count": 45,
      "metadata": {},
      "outputs": [
        {
          "data": {
            "text/plain": [
              "[frozenset({'Bob', 'Emma', 'Jill', 'Mike'}),\n",
              " frozenset({'Allen', 'Lisa', 'Liz'}),\n",
              " frozenset({'John', 'Leah', 'Shane'})]"
            ]
          },
          "execution_count": 45,
          "metadata": {},
          "output_type": "execute_result"
        }
      ],
      "source": [
        "cnm_clus = greedy_modularity_communities(soc_graph)\n",
        "cnm_clus"
      ]
    },
    {
      "cell_type": "markdown",
      "metadata": {},
      "source": [
        "Next, let's assign numbers to each community."
      ]
    },
    {
      "cell_type": "code",
      "execution_count": 46,
      "metadata": {},
      "outputs": [
        {
          "data": {
            "text/plain": [
              "{'Lisa': 1,\n",
              " 'Allen': 1,\n",
              " 'Liz': 1,\n",
              " 'Emma': 0,\n",
              " 'Shane': 2,\n",
              " 'Mike': 0,\n",
              " 'Bob': 0,\n",
              " 'Jill': 0,\n",
              " 'John': 2,\n",
              " 'Leah': 2}"
            ]
          },
          "execution_count": 46,
          "metadata": {},
          "output_type": "execute_result"
        }
      ],
      "source": [
        "val_assign = {elem: i for i in range(len(cnm_clus)) for elem in cnm_clus[i]}\n",
        "#We have to sort the names similar to the automatic arrangement of names by networkx\n",
        "val_assign = {name: val_assign[name] for name in names}\n",
        "val_assign"
      ]
    },
    {
      "cell_type": "markdown",
      "metadata": {},
      "source": [
        "Like what we did earlier, we will color the nodes of the graph depending on the community where it belongs"
      ]
    },
    {
      "cell_type": "code",
      "execution_count": 47,
      "metadata": {},
      "outputs": [
        {
          "data": {
            "image/png": "[encoded data removed]",
            "text/plain": [
              "<Figure size 432x288 with 1 Axes>"
            ]
          },
          "metadata": {},
          "output_type": "display_data"
        }
      ],
      "source": [
        "nx.draw_kamada_kawai(soc_graph, with_labels = True, node_size=2000, cmap='Pastel1', node_color=list(val_assign.values()))\n",
        "plt.title('Clauset-Newman-Moore Algorithm')\n",
        "plt.show()"
      ]
    },
    {
      "cell_type": "code",
      "execution_count": 48,
      "metadata": {},
      "outputs": [
        {
          "name": "stdout",
          "output_type": "stream",
          "text": [
            "The modularity for the Clauset-Newman-Moore algorithm is 0.22222222222222218\n"
          ]
        }
      ],
      "source": [
        "#to get the communities for CNM, we just unpack the frozenset of greed_clus\n",
        "cnm_comms =  [{elem for elem in cnm_clus[i]} for i in range(len(cnm_clus))]\n",
        "#calculate the modularity\n",
        "cnm_modul = modularity(soc_graph, cnm_comms)\n",
        "print('The modularity for the Clauset-Newman-Moore algorithm is {}'.format(cnm_modul))"
      ]
    },
    {
      "cell_type": "markdown",
      "metadata": {},
      "source": [
        "Because CNM is the predecessor of the Louvain algorithm, it is expected that both will give the same results. The difference might be amplified in the regime where CNM fails."
      ]
    }
  ],
  "metadata": {
    "colab": {
      "provenance": []
    },
    "kernelspec": {
      "display_name": "Python 3",
      "name": "python3"
    },
    "language_info": {
      "codemirror_mode": {
        "name": "ipython",
        "version": 3
      },
      "file_extension": ".py",
      "mimetype": "text/x-python",
      "name": "python",
      "nbconvert_exporter": "python",
      "pygments_lexer": "ipython3",
      "version": "3.9.13"
    }
  },
  "nbformat": 4,
  "nbformat_minor": 0
}
